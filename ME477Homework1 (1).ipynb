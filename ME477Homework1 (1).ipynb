{
 "cells": [
  {
   "cell_type": "markdown",
   "id": "8ab8bad1-1c36-42ff-a40e-130ebfcbf9ea",
   "metadata": {
    "tags": []
   },
   "source": [
    "# ME477 Homework 1\n",
    "Use this document to solve (Code Cells) and explain (Markdown Cells) your homework by adding your code and explanations under this cell.\n",
    "1. Solve the set of equations shown in below using <a href=\"https://docs.scipy.org/doc/scipy/reference/generated/scipy.linalg.solve.html\"> scipy.linalg.solve() </a> function in the scipy library.\n",
    "$$a+b+c=100$$ \n",
    "$$a+b+d=80$$\n",
    "$$a+c+d=170$$\n",
    "$$b+c+d=250$$\n",
    "Denote your output vector as `F` and your matrix as `K` and solve `a`, `b`, `c`, and `d`.\n",
    "\n",
    "2. In this task you are asked to calculate the volume of a cylindrical tank for various radius and height setups and represent your results graphically. Note that the volume of this tank can be calculated using the equation shown below.\n",
    "$$V = \\pi r^2 h$$\n",
    "    1. Create a custom function which takes height and radius inputs and returns the tank volume.\n",
    "    2. In this step Height of the tank is constant and it is 15. The radius changes between 3.5 and 5.2. Make an Array for these radius values and calculate the corresponding volume for each radius value using your custom fuction. Then make a radius vs volume plot to show your results.\n",
    "    3. In this step Height is no longer constant and it changes between 3.5 and 5.2 as well. Create a 2D array for your height and radius using <a href=\"https://numpy.org/doc/stable/reference/generated/numpy.meshgrid.html\"> np.meshgrid</a>. Calculate the corresponding volume data using your custom function. Create a 2D plot using <a href=\"https://matplotlib.org/stable/api/_as_gen/matplotlib.pyplot.contourf.html\"> contourf()</a> function.\n",
    "    4. Plot the previous 2D plot again but increase the amount of contour lines to 200."
   ]
  },
  {
   "cell_type": "code",
   "execution_count": null,
   "id": "f2647a69-747c-436e-ab77-5ed644c1ed11",
   "metadata": {},
   "outputs": [],
   "source": []
  }
 ],
 "metadata": {
  "kernelspec": {
   "display_name": "Python 3 (ipykernel)",
   "language": "python",
   "name": "python3"
  },
  "language_info": {
   "codemirror_mode": {
    "name": "ipython",
    "version": 3
   },
   "file_extension": ".py",
   "mimetype": "text/x-python",
   "name": "python",
   "nbconvert_exporter": "python",
   "pygments_lexer": "ipython3",
   "version": "3.11.5"
  }
 },
 "nbformat": 4,
 "nbformat_minor": 5
}
